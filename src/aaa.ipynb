{
 "cells": [
  {
   "cell_type": "code",
   "execution_count": 4,
   "metadata": {},
   "outputs": [],
   "source": [
    "from configuration import BASE_URL, get_project_root"
   ]
  },
  {
   "cell_type": "code",
   "execution_count": 5,
   "metadata": {},
   "outputs": [
    {
     "data": {
      "text/plain": [
       "WindowsPath('e:/OneDrive/Documents/GitHub')"
      ]
     },
     "execution_count": 5,
     "metadata": {},
     "output_type": "execute_result"
    }
   ],
   "source": [
    "get_project_root()"
   ]
  },
  {
   "cell_type": "code",
   "execution_count": 2,
   "metadata": {},
   "outputs": [
    {
     "data": {
      "text/plain": [
       "'https://www.winemag.com/?s=&drink_type=wine&country={country}&page={n_page}&sort_by=pub_date_web&sort_dir=desc&search_type=reviews'"
      ]
     },
     "execution_count": 2,
     "metadata": {},
     "output_type": "execute_result"
    }
   ],
   "source": [
    "BASE_URL"
   ]
  },
  {
   "cell_type": "code",
   "execution_count": 1,
   "metadata": {},
   "outputs": [],
   "source": [
    "from winemag_scrapper import Scrapper"
   ]
  },
  {
   "cell_type": "code",
   "execution_count": 2,
   "metadata": {},
   "outputs": [
    {
     "name": "stdout",
     "output_type": "stream",
     "text": [
      "The total number of pages found is 2400\n"
     ]
    }
   ],
   "source": [
    "scr_obj = Scrapper('Italy', 2)"
   ]
  },
  {
   "cell_type": "code",
   "execution_count": 3,
   "metadata": {},
   "outputs": [
    {
     "data": {
      "text/plain": [
       "['https://www.winemag.com/buying-guide/franchetti-passopisciaro-2020-contrada-r-nerello-mascalese-terre-siciliane/',\n",
       " 'https://www.winemag.com/buying-guide/franchetti-passopisciaro-2020-contrada-g-nerello-mascalese-terre-siciliane/',\n",
       " 'https://www.winemag.com/buying-guide/franchetti-passopisciaro-2020-contrada-s-nerello-mascalese-terre-siciliane/',\n",
       " 'https://www.winemag.com/buying-guide/tiefenbrunner-2021-anna-weissburgunder-pinot-blanc-alto-adige/',\n",
       " 'https://www.winemag.com/buying-guide/franchetti-passopisciaro-2020-contrada-c-nerello-mascalese-terre-siciliane/',\n",
       " 'https://www.winemag.com/buying-guide/livio-felluga-2019-sauvignon-potentilla-sauvignon-friuli-colli-orientali/',\n",
       " 'https://www.winemag.com/buying-guide/franchetti-passopisciaro-2020-contrada-p-nerello-mascalese-terre-siciliane/',\n",
       " 'https://www.winemag.com/buying-guide/andriano-2020-doran-chardonnay-alto-adige/',\n",
       " 'https://www.winemag.com/buying-guide/cantina-terlano-2020-monticol-pinot-noir-riserva-pinot-noir-alto-adige/',\n",
       " 'https://www.winemag.com/buying-guide/cantina-terlano-2020-vorberg-pinot-bianco-riserva-pinot-bianco-alto-adige-terlano/',\n",
       " 'https://www.winemag.com/buying-guide/erste-neue-2020-puntay-pinot-bianco-alto-adige/',\n",
       " 'https://www.winemag.com/buying-guide/gottardi-2016-sudtiroler-blauburgunder-blauburgunder-alto-adige/',\n",
       " 'https://www.winemag.com/buying-guide/benanti-2016-rovittello-alberello-centenario-particella-no-341-riserva-etna/',\n",
       " 'https://www.winemag.com/buying-guide/andriano-2021-finado-pinot-bianco-pinot-bianco-alto-adige/',\n",
       " 'https://www.winemag.com/buying-guide/cantina-terlano-2021-tradition-pinot-noir-pinot-noir-alto-adige/',\n",
       " 'https://www.winemag.com/buying-guide/cantina-terlano-2019-porphyr-lagrein-riserva-lagrein-alto-adige/',\n",
       " 'https://www.winemag.com/buying-guide/erste-neue-2021-puntay-kalterersee-classico-superiore-schiava-alto-adige/',\n",
       " 'https://www.winemag.com/buying-guide/benanti-2020-contrada-dafara-galluzzo-etna/',\n",
       " 'https://www.winemag.com/buying-guide/cantina-terlano-2021-tradition-pinot-bianco-pinot-bianco-alto-adige/',\n",
       " 'https://www.winemag.com/buying-guide/cantina-terlano-2020-kreuth-chardonnay-alto-adige-terlano/',\n",
       " 'https://www.winemag.com/buying-guide/franchetti-passopisciaro-2020-contrada-r-nerello-mascalese-terre-siciliane/',\n",
       " 'https://www.winemag.com/buying-guide/franchetti-passopisciaro-2020-contrada-g-nerello-mascalese-terre-siciliane/',\n",
       " 'https://www.winemag.com/buying-guide/franchetti-passopisciaro-2020-contrada-s-nerello-mascalese-terre-siciliane/',\n",
       " 'https://www.winemag.com/buying-guide/tiefenbrunner-2021-anna-weissburgunder-pinot-blanc-alto-adige/',\n",
       " 'https://www.winemag.com/buying-guide/franchetti-passopisciaro-2020-contrada-c-nerello-mascalese-terre-siciliane/',\n",
       " 'https://www.winemag.com/buying-guide/livio-felluga-2019-sauvignon-potentilla-sauvignon-friuli-colli-orientali/',\n",
       " 'https://www.winemag.com/buying-guide/franchetti-passopisciaro-2020-contrada-p-nerello-mascalese-terre-siciliane/',\n",
       " 'https://www.winemag.com/buying-guide/andriano-2020-doran-chardonnay-alto-adige/',\n",
       " 'https://www.winemag.com/buying-guide/cantina-terlano-2020-monticol-pinot-noir-riserva-pinot-noir-alto-adige/',\n",
       " 'https://www.winemag.com/buying-guide/cantina-terlano-2020-vorberg-pinot-bianco-riserva-pinot-bianco-alto-adige-terlano/',\n",
       " 'https://www.winemag.com/buying-guide/erste-neue-2020-puntay-pinot-bianco-alto-adige/',\n",
       " 'https://www.winemag.com/buying-guide/gottardi-2016-sudtiroler-blauburgunder-blauburgunder-alto-adige/',\n",
       " 'https://www.winemag.com/buying-guide/benanti-2016-rovittello-alberello-centenario-particella-no-341-riserva-etna/',\n",
       " 'https://www.winemag.com/buying-guide/andriano-2021-finado-pinot-bianco-pinot-bianco-alto-adige/',\n",
       " 'https://www.winemag.com/buying-guide/cantina-terlano-2021-tradition-pinot-noir-pinot-noir-alto-adige/',\n",
       " 'https://www.winemag.com/buying-guide/cantina-terlano-2019-porphyr-lagrein-riserva-lagrein-alto-adige/',\n",
       " 'https://www.winemag.com/buying-guide/erste-neue-2021-puntay-kalterersee-classico-superiore-schiava-alto-adige/',\n",
       " 'https://www.winemag.com/buying-guide/benanti-2020-contrada-dafara-galluzzo-etna/',\n",
       " 'https://www.winemag.com/buying-guide/cantina-terlano-2021-tradition-pinot-bianco-pinot-bianco-alto-adige/',\n",
       " 'https://www.winemag.com/buying-guide/cantina-terlano-2020-kreuth-chardonnay-alto-adige-terlano/']"
      ]
     },
     "execution_count": 3,
     "metadata": {},
     "output_type": "execute_result"
    }
   ],
   "source": [
    "scr_obj._get_reviews_urls()"
   ]
  },
  {
   "cell_type": "code",
   "execution_count": null,
   "metadata": {},
   "outputs": [],
   "source": []
  }
 ],
 "metadata": {
  "kernelspec": {
   "display_name": "web",
   "language": "python",
   "name": "python3"
  },
  "language_info": {
   "codemirror_mode": {
    "name": "ipython",
    "version": 3
   },
   "file_extension": ".py",
   "mimetype": "text/x-python",
   "name": "python",
   "nbconvert_exporter": "python",
   "pygments_lexer": "ipython3",
   "version": "3.11.0"
  },
  "orig_nbformat": 4
 },
 "nbformat": 4,
 "nbformat_minor": 2
}
